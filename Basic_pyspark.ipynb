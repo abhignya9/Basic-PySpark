{
  "nbformat": 4,
  "nbformat_minor": 0,
  "metadata": {
    "colab": {
      "name": "Untitled0.ipynb",
      "provenance": []
    },
    "kernelspec": {
      "name": "python3",
      "display_name": "Python 3"
    }
  },
  "cells": [
    {
      "cell_type": "code",
      "metadata": {
        "colab": {
          "base_uri": "https://localhost:8080/",
          "height": 522
        },
        "id": "GVnsua0VeldZ",
        "outputId": "2aa0238b-39a5-44ec-eb33-6500a3d79aa5"
      },
      "source": [
        "!apt-get update\n",
        "!apt-get install openjdk-8-jdk-headless -qq > /dev/null\n",
        "!wget -q http://archive.apache.org/dist/spark/spark-2.3.1/spark-2.3.1-bin-hadoop2.7.tgz\n",
        "!tar xf spark-2.3.1-bin-hadoop2.7.tgz\n",
        "!pip install -q findspark\n",
        "\n",
        "import os\n",
        "os.environ[\"JAVA_HOME\"] = \"/usr/lib/jvm/java-8-openjdk-amd64\"\n",
        "os.environ[\"SPARK_HOME\"] = \"/content/spark-2.3.1-bin-hadoop2.7\"\n",
        "\n",
        "!ls\n",
        "\n",
        "import findspark\n",
        "findspark.init()\n",
        "\n",
        "import pyspark\n",
        "from pyspark.sql import SparkSession\n",
        "spark = SparkSession.builder.getOrCreate() \n",
        "spark"
      ],
      "execution_count": 1,
      "outputs": [
        {
          "output_type": "stream",
          "text": [
            "\r0% [Working]\r            \rIgn:1 https://developer.download.nvidia.com/compute/cuda/repos/ubuntu1804/x86_64  InRelease\n",
            "\r0% [Connecting to archive.ubuntu.com (91.189.88.142)] [Connecting to security.u\r                                                                               \rGet:2 https://cloud.r-project.org/bin/linux/ubuntu bionic-cran40/ InRelease [3,626 B]\n",
            "\r0% [Connecting to archive.ubuntu.com (91.189.88.142)] [Connecting to security.u\r0% [Connecting to archive.ubuntu.com (91.189.88.142)] [Connecting to security.u\r0% [2 InRelease gpgv 3,626 B] [Connecting to archive.ubuntu.com (91.189.88.142)\r                                                                               \rIgn:3 https://developer.download.nvidia.com/compute/machine-learning/repos/ubuntu1804/x86_64  InRelease\n",
            "\r0% [2 InRelease gpgv 3,626 B] [Connecting to archive.ubuntu.com (91.189.88.142)\r                                                                               \rHit:4 https://developer.download.nvidia.com/compute/cuda/repos/ubuntu1804/x86_64  Release\n",
            "\r0% [2 InRelease gpgv 3,626 B] [Connecting to archive.ubuntu.com (91.189.88.142)\r                                                                               \rHit:5 https://developer.download.nvidia.com/compute/machine-learning/repos/ubuntu1804/x86_64  Release\n",
            "Get:6 http://security.ubuntu.com/ubuntu bionic-security InRelease [88.7 kB]\n",
            "Hit:7 http://archive.ubuntu.com/ubuntu bionic InRelease\n",
            "Get:8 http://ppa.launchpad.net/c2d4u.team/c2d4u4.0+/ubuntu bionic InRelease [15.9 kB]\n",
            "Get:9 http://archive.ubuntu.com/ubuntu bionic-updates InRelease [88.7 kB]\n",
            "Hit:11 http://ppa.launchpad.net/cran/libgit2/ubuntu bionic InRelease\n",
            "Get:13 http://archive.ubuntu.com/ubuntu bionic-backports InRelease [74.6 kB]\n",
            "Hit:14 http://ppa.launchpad.net/graphics-drivers/ppa/ubuntu bionic InRelease\n",
            "Get:15 http://ppa.launchpad.net/c2d4u.team/c2d4u4.0+/ubuntu bionic/main Sources [1,732 kB]\n",
            "Get:16 http://archive.ubuntu.com/ubuntu bionic-updates/main amd64 Packages [2,360 kB]\n",
            "Get:17 http://ppa.launchpad.net/c2d4u.team/c2d4u4.0+/ubuntu bionic/main amd64 Packages [887 kB]\n",
            "Fetched 5,250 kB in 4s (1,402 kB/s)\n",
            "Reading package lists... Done\n",
            "sample_data  spark-2.3.1-bin-hadoop2.7\tspark-2.3.1-bin-hadoop2.7.tgz\n"
          ],
          "name": "stdout"
        },
        {
          "output_type": "execute_result",
          "data": {
            "text/html": [
              "\n",
              "            <div>\n",
              "                <p><b>SparkSession - in-memory</b></p>\n",
              "                \n",
              "        <div>\n",
              "            <p><b>SparkContext</b></p>\n",
              "\n",
              "            <p><a href=\"http://73c5d1e1d931:4040\">Spark UI</a></p>\n",
              "\n",
              "            <dl>\n",
              "              <dt>Version</dt>\n",
              "                <dd><code>v2.3.1</code></dd>\n",
              "              <dt>Master</dt>\n",
              "                <dd><code>local[*]</code></dd>\n",
              "              <dt>AppName</dt>\n",
              "                <dd><code>pyspark-shell</code></dd>\n",
              "            </dl>\n",
              "        </div>\n",
              "        \n",
              "            </div>\n",
              "        "
            ],
            "text/plain": [
              "<pyspark.sql.session.SparkSession at 0x7f0e2dfcff98>"
            ]
          },
          "metadata": {
            "tags": []
          },
          "execution_count": 1
        }
      ]
    },
    {
      "cell_type": "code",
      "metadata": {
        "colab": {
          "base_uri": "https://localhost:8080/"
        },
        "id": "Lvu12gSBevf0",
        "outputId": "e05f1ca0-ccd2-4a6b-fd88-3ef38628b101"
      },
      "source": [
        "#import spark.sql.functions as sqlfunc\n",
        "df = spark.read.csv(\"challenge.csv\", header = True)\n",
        "df.show()"
      ],
      "execution_count": 5,
      "outputs": [
        {
          "output_type": "stream",
          "text": [
            "+---------------+--------------+-----------------+----------+\n",
            "|     ip_address|       Country|      Domain Name|Bytes_used|\n",
            "+---------------+--------------+-----------------+----------+\n",
            "|  52.81.192.172|         China| odnoklassniki.ru|       463|\n",
            "| 119.239.207.13|         China|         youtu.be|        51|\n",
            "|  68.69.217.210|         China|        adobe.com|        10|\n",
            "|   7.191.21.223|      Bulgaria|     linkedin.com|       853|\n",
            "|   211.13.10.68|     Indonesia|          hud.gov|        29|\n",
            "|   239.80.21.97|      Suriname|       smh.com.au|       218|\n",
            "|106.214.106.233|       Jamaica|    amazonaws.com|        95|\n",
            "| 127.242.24.138|         China| surveymonkey.com|       123|\n",
            "|     99.2.6.139|Czech Republic|     geocities.jp|       322|\n",
            "|   237.54.11.63|         China|       amazon.com|        83|\n",
            "| 252.141.157.25|         Japan|      cornell.edu|       374|\n",
            "|185.220.128.248|       Belgium|       weebly.com|       389|\n",
            "|   151.77.19.45|   Afghanistan|independent.co.uk|       282|\n",
            "|  9.161.158.225|     Indonesia|    bloglines.com|       726|\n",
            "| 156.144.61.155|Czech Republic|   slideshare.net|       657|\n",
            "|   8.96.188.151|     Indonesia|          ibm.com|       517|\n",
            "|      5.72.7.65|        Mexico|         youtu.be|       877|\n",
            "|227.110.112.144|       Croatia|         ehow.com|       287|\n",
            "|    81.71.28.97|      Thailand|          last.fm|       588|\n",
            "|  9.255.129.184|      Thailand|          mtv.com|       114|\n",
            "+---------------+--------------+-----------------+----------+\n",
            "only showing top 20 rows\n",
            "\n"
          ],
          "name": "stdout"
        }
      ]
    },
    {
      "cell_type": "code",
      "metadata": {
        "colab": {
          "base_uri": "https://localhost:8080/"
        },
        "id": "zxqnXSWifS9y",
        "outputId": "933ac193-e8ce-44e0-b004-e303b44ff147"
      },
      "source": [
        "from pyspark.sql.functions import *\n",
        "df1 = df.withColumn(\"is_Mexico\", when(df.Country == 'Mexico', 'Yes').otherwise('No'))\n",
        "df1.show()"
      ],
      "execution_count": 8,
      "outputs": [
        {
          "output_type": "stream",
          "text": [
            "+---------------+--------------+-----------------+----------+---------+\n",
            "|     ip_address|       Country|      Domain Name|Bytes_used|is_Mexico|\n",
            "+---------------+--------------+-----------------+----------+---------+\n",
            "|  52.81.192.172|         China| odnoklassniki.ru|       463|       No|\n",
            "| 119.239.207.13|         China|         youtu.be|        51|       No|\n",
            "|  68.69.217.210|         China|        adobe.com|        10|       No|\n",
            "|   7.191.21.223|      Bulgaria|     linkedin.com|       853|       No|\n",
            "|   211.13.10.68|     Indonesia|          hud.gov|        29|       No|\n",
            "|   239.80.21.97|      Suriname|       smh.com.au|       218|       No|\n",
            "|106.214.106.233|       Jamaica|    amazonaws.com|        95|       No|\n",
            "| 127.242.24.138|         China| surveymonkey.com|       123|       No|\n",
            "|     99.2.6.139|Czech Republic|     geocities.jp|       322|       No|\n",
            "|   237.54.11.63|         China|       amazon.com|        83|       No|\n",
            "| 252.141.157.25|         Japan|      cornell.edu|       374|       No|\n",
            "|185.220.128.248|       Belgium|       weebly.com|       389|       No|\n",
            "|   151.77.19.45|   Afghanistan|independent.co.uk|       282|       No|\n",
            "|  9.161.158.225|     Indonesia|    bloglines.com|       726|       No|\n",
            "| 156.144.61.155|Czech Republic|   slideshare.net|       657|       No|\n",
            "|   8.96.188.151|     Indonesia|          ibm.com|       517|       No|\n",
            "|      5.72.7.65|        Mexico|         youtu.be|       877|      Yes|\n",
            "|227.110.112.144|       Croatia|         ehow.com|       287|       No|\n",
            "|    81.71.28.97|      Thailand|          last.fm|       588|       No|\n",
            "|  9.255.129.184|      Thailand|          mtv.com|       114|       No|\n",
            "+---------------+--------------+-----------------+----------+---------+\n",
            "only showing top 20 rows\n",
            "\n"
          ],
          "name": "stdout"
        }
      ]
    },
    {
      "cell_type": "code",
      "metadata": {
        "colab": {
          "base_uri": "https://localhost:8080/"
        },
        "id": "Qk-1N0B4gKde",
        "outputId": "7dc56d2d-e8b7-4bd6-a813-129a0b9ac6df"
      },
      "source": [
        "df2 = df1.withColumn(\"int_Bytes\", df.Bytes_used.cast('int'))\n",
        "df2 = df2.groupby('is_Mexico').agg(sum('int_Bytes'))\n",
        "df2.show()"
      ],
      "execution_count": 11,
      "outputs": [
        {
          "output_type": "stream",
          "text": [
            "+---------+--------------+\n",
            "|is_Mexico|sum(int_Bytes)|\n",
            "+---------+--------------+\n",
            "|       No|        508076|\n",
            "|      Yes|          6293|\n",
            "+---------+--------------+\n",
            "\n"
          ],
          "name": "stdout"
        }
      ]
    },
    {
      "cell_type": "code",
      "metadata": {
        "colab": {
          "base_uri": "https://localhost:8080/"
        },
        "id": "esDJuff3hYUb",
        "outputId": "54d8048a-e066-4ee0-88e3-8e1c0be21891"
      },
      "source": [
        "df3 = df1.groupby('Country').agg(countDistinct('ip_address').alias('num_ip'))\n",
        "df3.sort(col('num_ip').desc()).show()"
      ],
      "execution_count": 14,
      "outputs": [
        {
          "output_type": "stream",
          "text": [
            "+--------------+------+\n",
            "|       Country|num_ip|\n",
            "+--------------+------+\n",
            "|         China|   172|\n",
            "|     Indonesia|   114|\n",
            "|   Philippines|    65|\n",
            "|        Russia|    56|\n",
            "|        Brazil|    35|\n",
            "|        Poland|    31|\n",
            "|        Sweden|    28|\n",
            "|         Japan|    25|\n",
            "|      Portugal|    23|\n",
            "|Czech Republic|    23|\n",
            "|        France|    21|\n",
            "|          Peru|    19|\n",
            "|      Colombia|    17|\n",
            "| United States|    15|\n",
            "|       Ukraine|    14|\n",
            "|     Argentina|    14|\n",
            "|        Mexico|    13|\n",
            "|      Thailand|    12|\n",
            "|        Canada|    11|\n",
            "|       Nigeria|    11|\n",
            "+--------------+------+\n",
            "only showing top 20 rows\n",
            "\n"
          ],
          "name": "stdout"
        }
      ]
    },
    {
      "cell_type": "code",
      "metadata": {
        "id": "ahj_KGu_hw2Q"
      },
      "source": [
        ""
      ],
      "execution_count": null,
      "outputs": []
    }
  ]
}